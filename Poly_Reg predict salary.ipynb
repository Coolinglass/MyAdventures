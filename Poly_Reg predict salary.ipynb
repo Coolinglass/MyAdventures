{
 "cells": [
  {
   "cell_type": "markdown",
   "id": "dd321888",
   "metadata": {},
   "source": [
    "Polynomial Regression"
   ]
  },
  {
   "cell_type": "markdown",
   "id": "09632be4",
   "metadata": {},
   "source": [
    "Importing Libraries"
   ]
  },
  {
   "cell_type": "code",
   "execution_count": 18,
   "id": "1b5e38a0",
   "metadata": {},
   "outputs": [],
   "source": [
    "import numpy as np\n",
    "import pandas as pd\n",
    "import matplotlib.pyplot as plt"
   ]
  },
  {
   "cell_type": "markdown",
   "id": "badb6672",
   "metadata": {},
   "source": [
    "Importin Datset"
   ]
  },
  {
   "cell_type": "code",
   "execution_count": 21,
   "id": "c3d1e0db",
   "metadata": {},
   "outputs": [
    {
     "name": "stdout",
     "output_type": "stream",
     "text": [
      "[[ 1]\n",
      " [ 2]\n",
      " [ 3]\n",
      " [ 4]\n",
      " [ 5]\n",
      " [ 6]\n",
      " [ 7]\n",
      " [ 8]\n",
      " [ 9]\n",
      " [10]] [  45000   50000   60000   80000  110000  150000  200000  300000  500000\n",
      " 1000000]\n"
     ]
    }
   ],
   "source": [
    "Data = \"C:/Users/palanil/OneDrive - Hathaway Dinwiddie/Desktop/Udemy Course Materials/Machine Learning A-Z (Codes and Datasets)/Part 2 - Regression/Section 6 - Polynomial Regression/Python/Position_Salaries.csv\"\n",
    "Dataset = pd.read_csv (Data)\n",
    "X = Dataset.iloc[:, 1:-1].values\n",
    "Y = Dataset.iloc[:, -1].values\n",
    "print (X,Y)"
   ]
  },
  {
   "cell_type": "markdown",
   "id": "a01cdada",
   "metadata": {},
   "source": [
    "Splitting between testing and training set"
   ]
  },
  {
   "cell_type": "code",
   "execution_count": 19,
   "id": "6502f108",
   "metadata": {},
   "outputs": [
    {
     "ename": "NameError",
     "evalue": "name 'X' is not defined",
     "output_type": "error",
     "traceback": [
      "\u001b[1;31m---------------------------------------------------------------------------\u001b[0m",
      "\u001b[1;31mNameError\u001b[0m                                 Traceback (most recent call last)",
      "\u001b[1;32m<ipython-input-19-684276014ecd>\u001b[0m in \u001b[0;36m<module>\u001b[1;34m\u001b[0m\n\u001b[0;32m      1\u001b[0m \u001b[1;32mfrom\u001b[0m \u001b[0msklearn\u001b[0m\u001b[1;33m.\u001b[0m\u001b[0mmodel_selection\u001b[0m \u001b[1;32mimport\u001b[0m \u001b[0mtrain_test_split\u001b[0m\u001b[1;33m\u001b[0m\u001b[1;33m\u001b[0m\u001b[0m\n\u001b[1;32m----> 2\u001b[1;33m \u001b[0mX_train\u001b[0m\u001b[1;33m,\u001b[0m \u001b[0mX_test\u001b[0m\u001b[1;33m,\u001b[0m \u001b[0mY_train\u001b[0m\u001b[1;33m,\u001b[0m \u001b[0mY_test\u001b[0m \u001b[1;33m=\u001b[0m \u001b[0mtrain_test_split\u001b[0m\u001b[1;33m(\u001b[0m\u001b[0mX\u001b[0m\u001b[1;33m,\u001b[0m\u001b[0mY\u001b[0m\u001b[1;33m,\u001b[0m \u001b[0mtest_size\u001b[0m \u001b[1;33m=\u001b[0m \u001b[1;36m0.2\u001b[0m\u001b[1;33m,\u001b[0m \u001b[0mrandom_state\u001b[0m \u001b[1;33m=\u001b[0m \u001b[1;36m0\u001b[0m\u001b[1;33m)\u001b[0m\u001b[1;33m\u001b[0m\u001b[1;33m\u001b[0m\u001b[0m\n\u001b[0m",
      "\u001b[1;31mNameError\u001b[0m: name 'X' is not defined"
     ]
    }
   ],
   "source": []
  },
  {
   "cell_type": "markdown",
   "id": "48262aab",
   "metadata": {},
   "source": [
    "Training the Linear reg on whole model"
   ]
  },
  {
   "cell_type": "code",
   "execution_count": 22,
   "id": "88914d61",
   "metadata": {},
   "outputs": [
    {
     "data": {
      "text/plain": [
       "LinearRegression()"
      ]
     },
     "execution_count": 22,
     "metadata": {},
     "output_type": "execute_result"
    }
   ],
   "source": [
    "from sklearn.linear_model import LinearRegression\n",
    "Linear_Regressor = LinearRegression()\n",
    "Linear_Regressor.fit(X,Y)"
   ]
  },
  {
   "cell_type": "markdown",
   "id": "ee8af4a4",
   "metadata": {},
   "source": [
    "Training Poly Reg on Whole model"
   ]
  },
  {
   "cell_type": "code",
   "execution_count": 43,
   "id": "c38c3766",
   "metadata": {},
   "outputs": [
    {
     "data": {
      "text/plain": [
       "LinearRegression()"
      ]
     },
     "execution_count": 43,
     "metadata": {},
     "output_type": "execute_result"
    }
   ],
   "source": [
    "from sklearn.preprocessing import PolynomialFeatures\n",
    "Poly_Features = PolynomialFeatures(degree = 5)\n",
    "X_Poly = Poly_Features.fit_transform(X)\n",
    "lin_reg_2 = LinearRegression()\n",
    "lin_reg_2.fit(X_Poly, Y)"
   ]
  },
  {
   "cell_type": "markdown",
   "id": "61ff6801",
   "metadata": {},
   "source": [
    "Visualizing Linear Reg results"
   ]
  },
  {
   "cell_type": "code",
   "execution_count": 32,
   "id": "3b56999f",
   "metadata": {},
   "outputs": [
    {
     "data": {
      "image/png": "[encoded data removed]",
      "text/plain": [
       "<Figure size 432x288 with 1 Axes>"
      ]
     },
     "metadata": {
      "needs_background": "light"
     },
     "output_type": "display_data"
    }
   ],
   "source": [
    "\n",
    "plt.scatter(X,Y, color='red')\n",
    "plt.plot(X, Linear_Regressor.predict(X), color='blue')\n",
    "plt.title('Truth or Bluff')\n",
    "plt.xlabel('Postion level')\n",
    "plt.ylabel('Salary')\n",
    "plt.show()"
   ]
  },
  {
   "cell_type": "markdown",
   "id": "bf5822d8",
   "metadata": {},
   "source": [
    "Visualizing Poly Reg results"
   ]
  },
  {
   "cell_type": "code",
   "execution_count": 44,
   "id": "b9a40c09",
   "metadata": {
    "scrolled": true
   },
   "outputs": [
    {
     "data": {
      "image/png": "[encoded data removed]",
      "text/plain": [
       "<Figure size 432x288 with 1 Axes>"
      ]
     },
     "metadata": {
      "needs_background": "light"
     },
     "output_type": "display_data"
    }
   ],
   "source": [
    "\n",
    "plt.scatter(X,Y, color='red')\n",
    "plt.plot(X, lin_reg_2.predict(X_Poly), color='blue')\n",
    "plt.title('Truth or Bluff')\n",
    "plt.xlabel('Postion level')\n",
    "plt.ylabel('Salary')\n",
    "plt.show()"
   ]
  },
  {
   "cell_type": "markdown",
   "id": "9995ad2a",
   "metadata": {},
   "source": [
    "predicting a new result with linear reg"
   ]
  },
  {
   "cell_type": "code",
   "execution_count": 50,
   "id": "f5044edd",
   "metadata": {},
   "outputs": [
    {
     "data": {
      "text/plain": [
       "array([330378.78787879])"
      ]
     },
     "execution_count": 50,
     "metadata": {},
     "output_type": "execute_result"
    }
   ],
   "source": [
    "Linear_Regressor.predict([[6.5]])"
   ]
  },
  {
   "cell_type": "markdown",
   "id": "a6bf2f6c",
   "metadata": {},
   "source": [
    "predicting a new result with poly reg"
   ]
  },
  {
   "cell_type": "code",
   "execution_count": 59,
   "id": "be41fa74",
   "metadata": {},
   "outputs": [
    {
     "data": {
      "text/plain": [
       "array([174878.07765118])"
      ]
     },
     "execution_count": 59,
     "metadata": {},
     "output_type": "execute_result"
    }
   ],
   "source": [
    "lin_reg_2.predict(Poly_Features.fit_transform([[6.5]]))"
   ]
  },
  {
   "cell_type": "code",
   "execution_count": null,
   "id": "fd15d20a",
   "metadata": {},
   "outputs": [],
   "source": []
  }
 ],
 "metadata": {
  "kernelspec": {
   "display_name": "Python 3",
   "language": "python",
   "name": "python3"
  },
  "language_info": {
   "codemirror_mode": {
    "name": "ipython",
    "version": 3
   },
   "file_extension": ".py",
   "mimetype": "text/x-python",
   "name": "python",
   "nbconvert_exporter": "python",
   "pygments_lexer": "ipython3",
   "version": "3.8.8"
  }
 },
 "nbformat": 4,
 "nbformat_minor": 5
}
